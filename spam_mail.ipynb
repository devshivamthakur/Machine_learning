{
 "cells": [
  {
   "cell_type": "code",
   "execution_count": 10,
   "id": "3047cdc7-627c-4130-a0b6-fe062e5e6048",
   "metadata": {},
   "outputs": [],
   "source": [
    "import pandas as pd\n",
    "import  numpy as np\n",
    "from sklearn.model_selection import train_test_split\n",
    "from sklearn.feature_extraction.text import TfidfVectorizer\n",
    "from sklearn.svm import LinearSVC\n",
    "from sklearn.metrics import accuracy_score"
   ]
  },
  {
   "cell_type": "code",
   "execution_count": 11,
   "id": "72705a52-72f6-4684-8b8c-a36c28047853",
   "metadata": {},
   "outputs": [],
   "source": [
    "df=pd.read_csv(\"./dataset/spam_ham_dataset.csv\")"
   ]
  },
  {
   "cell_type": "code",
   "execution_count": 12,
   "id": "c8ebfde2-baa5-4f7d-a2d2-80d1662c1390",
   "metadata": {},
   "outputs": [
    {
     "data": {
      "text/html": [
       "<div>\n",
       "<style scoped>\n",
       "    .dataframe tbody tr th:only-of-type {\n",
       "        vertical-align: middle;\n",
       "    }\n",
       "\n",
       "    .dataframe tbody tr th {\n",
       "        vertical-align: top;\n",
       "    }\n",
       "\n",
       "    .dataframe thead th {\n",
       "        text-align: right;\n",
       "    }\n",
       "</style>\n",
       "<table border=\"1\" class=\"dataframe\">\n",
       "  <thead>\n",
       "    <tr style=\"text-align: right;\">\n",
       "      <th></th>\n",
       "      <th>Unnamed: 0</th>\n",
       "      <th>label</th>\n",
       "      <th>text</th>\n",
       "      <th>label_num</th>\n",
       "    </tr>\n",
       "  </thead>\n",
       "  <tbody>\n",
       "    <tr>\n",
       "      <th>0</th>\n",
       "      <td>605</td>\n",
       "      <td>ham</td>\n",
       "      <td>Subject: enron methanol ; meter # : 988291\\r\\n...</td>\n",
       "      <td>0</td>\n",
       "    </tr>\n",
       "    <tr>\n",
       "      <th>1</th>\n",
       "      <td>2349</td>\n",
       "      <td>ham</td>\n",
       "      <td>Subject: hpl nom for january 9 , 2001\\r\\n( see...</td>\n",
       "      <td>0</td>\n",
       "    </tr>\n",
       "    <tr>\n",
       "      <th>2</th>\n",
       "      <td>3624</td>\n",
       "      <td>ham</td>\n",
       "      <td>Subject: neon retreat\\r\\nho ho ho , we ' re ar...</td>\n",
       "      <td>0</td>\n",
       "    </tr>\n",
       "    <tr>\n",
       "      <th>3</th>\n",
       "      <td>4685</td>\n",
       "      <td>spam</td>\n",
       "      <td>Subject: photoshop , windows , office . cheap ...</td>\n",
       "      <td>1</td>\n",
       "    </tr>\n",
       "    <tr>\n",
       "      <th>4</th>\n",
       "      <td>2030</td>\n",
       "      <td>ham</td>\n",
       "      <td>Subject: re : indian springs\\r\\nthis deal is t...</td>\n",
       "      <td>0</td>\n",
       "    </tr>\n",
       "  </tbody>\n",
       "</table>\n",
       "</div>"
      ],
      "text/plain": [
       "   Unnamed: 0 label                                               text  \\\n",
       "0         605   ham  Subject: enron methanol ; meter # : 988291\\r\\n...   \n",
       "1        2349   ham  Subject: hpl nom for january 9 , 2001\\r\\n( see...   \n",
       "2        3624   ham  Subject: neon retreat\\r\\nho ho ho , we ' re ar...   \n",
       "3        4685  spam  Subject: photoshop , windows , office . cheap ...   \n",
       "4        2030   ham  Subject: re : indian springs\\r\\nthis deal is t...   \n",
       "\n",
       "   label_num  \n",
       "0          0  \n",
       "1          0  \n",
       "2          0  \n",
       "3          1  \n",
       "4          0  "
      ]
     },
     "execution_count": 12,
     "metadata": {},
     "output_type": "execute_result"
    }
   ],
   "source": [
    "df.head()"
   ]
  },
  {
   "cell_type": "code",
   "execution_count": 13,
   "id": "25da0993-f368-4a4d-8c90-8ea91ac621c4",
   "metadata": {},
   "outputs": [
    {
     "data": {
      "text/plain": [
       "(5171, 4)"
      ]
     },
     "execution_count": 13,
     "metadata": {},
     "output_type": "execute_result"
    }
   ],
   "source": [
    "df.shape"
   ]
  },
  {
   "cell_type": "code",
   "execution_count": 14,
   "id": "685f4741-fc05-4f5a-b8c2-700adfd93660",
   "metadata": {},
   "outputs": [],
   "source": [
    "mail_data = df.where((pd.notnull(df)), '')"
   ]
  },
  {
   "cell_type": "code",
   "execution_count": 16,
   "id": "69aa01e4-68cb-49e5-8176-4906e2601787",
   "metadata": {},
   "outputs": [
    {
     "data": {
      "text/plain": [
       "(5171, 4)"
      ]
     },
     "execution_count": 16,
     "metadata": {},
     "output_type": "execute_result"
    }
   ],
   "source": [
    "mail_data.shape"
   ]
  },
  {
   "cell_type": "code",
   "execution_count": 20,
   "id": "2db9f334-f4dc-4a9b-a818-32367e4e9085",
   "metadata": {},
   "outputs": [],
   "source": [
    "# label spam mail as 0; Non-spam mail (ham) mail as 1.\n",
    "mail_data.loc[mail_data['label']=='ham','label']=0\n",
    "mail_data.loc[mail_data['label']=='spam','label']=1"
   ]
  },
  {
   "cell_type": "code",
   "execution_count": 19,
   "id": "a2d4b4a3-1fbe-4877-a4b0-cab808d4400a",
   "metadata": {},
   "outputs": [
    {
     "data": {
      "text/html": [
       "<div>\n",
       "<style scoped>\n",
       "    .dataframe tbody tr th:only-of-type {\n",
       "        vertical-align: middle;\n",
       "    }\n",
       "\n",
       "    .dataframe tbody tr th {\n",
       "        vertical-align: top;\n",
       "    }\n",
       "\n",
       "    .dataframe thead th {\n",
       "        text-align: right;\n",
       "    }\n",
       "</style>\n",
       "<table border=\"1\" class=\"dataframe\">\n",
       "  <thead>\n",
       "    <tr style=\"text-align: right;\">\n",
       "      <th></th>\n",
       "      <th>Unnamed: 0</th>\n",
       "      <th>label</th>\n",
       "      <th>text</th>\n",
       "      <th>label_num</th>\n",
       "    </tr>\n",
       "  </thead>\n",
       "  <tbody>\n",
       "    <tr>\n",
       "      <th>0</th>\n",
       "      <td>605</td>\n",
       "      <td>0</td>\n",
       "      <td>Subject: enron methanol ; meter # : 988291\\r\\n...</td>\n",
       "      <td>0</td>\n",
       "    </tr>\n",
       "    <tr>\n",
       "      <th>1</th>\n",
       "      <td>2349</td>\n",
       "      <td>0</td>\n",
       "      <td>Subject: hpl nom for january 9 , 2001\\r\\n( see...</td>\n",
       "      <td>0</td>\n",
       "    </tr>\n",
       "    <tr>\n",
       "      <th>2</th>\n",
       "      <td>3624</td>\n",
       "      <td>0</td>\n",
       "      <td>Subject: neon retreat\\r\\nho ho ho , we ' re ar...</td>\n",
       "      <td>0</td>\n",
       "    </tr>\n",
       "    <tr>\n",
       "      <th>3</th>\n",
       "      <td>4685</td>\n",
       "      <td>1</td>\n",
       "      <td>Subject: photoshop , windows , office . cheap ...</td>\n",
       "      <td>1</td>\n",
       "    </tr>\n",
       "    <tr>\n",
       "      <th>4</th>\n",
       "      <td>2030</td>\n",
       "      <td>0</td>\n",
       "      <td>Subject: re : indian springs\\r\\nthis deal is t...</td>\n",
       "      <td>0</td>\n",
       "    </tr>\n",
       "  </tbody>\n",
       "</table>\n",
       "</div>"
      ],
      "text/plain": [
       "   Unnamed: 0 label                                               text  \\\n",
       "0         605     0  Subject: enron methanol ; meter # : 988291\\r\\n...   \n",
       "1        2349     0  Subject: hpl nom for january 9 , 2001\\r\\n( see...   \n",
       "2        3624     0  Subject: neon retreat\\r\\nho ho ho , we ' re ar...   \n",
       "3        4685     1  Subject: photoshop , windows , office . cheap ...   \n",
       "4        2030     0  Subject: re : indian springs\\r\\nthis deal is t...   \n",
       "\n",
       "   label_num  \n",
       "0          0  \n",
       "1          0  \n",
       "2          0  \n",
       "3          1  \n",
       "4          0  "
      ]
     },
     "execution_count": 19,
     "metadata": {},
     "output_type": "execute_result"
    }
   ],
   "source": [
    "mail_data.head()"
   ]
  },
  {
   "cell_type": "code",
   "execution_count": 21,
   "id": "90a12f6f-861a-4e50-8b3f-9827f348b5ab",
   "metadata": {},
   "outputs": [],
   "source": [
    "# separate the data as text and label. X --> text; Y --> label\n",
    "X = mail_data['text']\n",
    "Y = mail_data['label']"
   ]
  },
  {
   "cell_type": "code",
   "execution_count": 22,
   "id": "51210f89-f5c3-47d5-9313-b556951d2483",
   "metadata": {},
   "outputs": [],
   "source": [
    "# split the data as train data and test data\n",
    "x_train,x_test,y_train,y_test=train_test_split(X,Y,train_size=0.8,test_size=0.2,random_state=3)"
   ]
  },
  {
   "cell_type": "code",
   "execution_count": 23,
   "id": "f8da0ad0-712c-4636-a635-2289553c4b08",
   "metadata": {},
   "outputs": [
    {
     "data": {
      "text/plain": [
       "2209    Subject: hplc to wellhead\\r\\ndaren here is the...\n",
       "2000    Subject: mobil chemical - hpl meter # 1256 - e...\n",
       "5030    Subject: revised nom 5 / 5 - eastrans ; revise...\n",
       "1376    Subject: re : exxon company , usa global # 960...\n",
       "1564    Subject: your pharmacy nx\\r\\nwant a cheap pain...\n",
       "                              ...                        \n",
       "789     Subject: incr ' ease yo ' ur man ' hood by 4 -...\n",
       "968     Subject: subscribers receive first notice on r...\n",
       "1667    Subject: neon for march 28\\r\\nhere is the neon...\n",
       "3321    Subject: re : first delivery - pure resources ...\n",
       "1688    Subject: enhance your chest size\\r\\nemail is l...\n",
       "Name: text, Length: 4136, dtype: object"
      ]
     },
     "execution_count": 23,
     "metadata": {},
     "output_type": "execute_result"
    }
   ],
   "source": []
  },
  {
   "cell_type": "code",
   "execution_count": 35,
   "id": "07238764-2da5-4f6c-be31-b3d1737ecdcf",
   "metadata": {},
   "outputs": [
    {
     "data": {
      "text/plain": [
       "<4136x45076 sparse matrix of type '<class 'numpy.float64'>'\n",
       "\twith 270337 stored elements in Compressed Sparse Row format>"
      ]
     },
     "execution_count": 35,
     "metadata": {},
     "output_type": "execute_result"
    }
   ],
   "source": [
    "# transform the text data to feature vectors that can be used as input to the SVM model using TfidfVectorizer\n",
    "# convert the text to lower case letters\n",
    "feature_extraction = TfidfVectorizer(min_df=1, stop_words='english', lowercase='True')\n",
    "X_train_features = feature_extraction.fit_transform(x_train)\n",
    "X_test_features = feature_extraction.transform(x_test)\n",
    "\n",
    "#convert Y_train and Y_test values as integers\n",
    "Y_train = y_train.astype('int')\n",
    "Y_test = y_test.astype('int')\n",
    "X_train_features"
   ]
  },
  {
   "cell_type": "code",
   "execution_count": 34,
   "id": "2554f92e-aea6-48b3-a452-7d6c548eefb3",
   "metadata": {},
   "outputs": [
    {
     "data": {
      "text/plain": [
       "LinearSVC()"
      ]
     },
     "execution_count": 34,
     "metadata": {},
     "output_type": "execute_result"
    }
   ],
   "source": [
    "# training the support vector machine model with training data\n",
    "model = LinearSVC()\n",
    "model.fit(X_train_features, Y_train) "
   ]
  },
  {
   "cell_type": "code",
   "execution_count": 36,
   "id": "44235db7-6855-4e1f-b7b5-1afb1f41c294",
   "metadata": {},
   "outputs": [],
   "source": [
    "# prediction on training data\n",
    "prediction_on_training_data = model.predict(X_train_features)\n",
    "accuracy_on_training_data = accuracy_score(Y_train, prediction_on_training_data)"
   ]
  },
  {
   "cell_type": "code",
   "execution_count": 37,
   "id": "f28d00a9-81b6-453a-920f-de6afee58a88",
   "metadata": {},
   "outputs": [
    {
     "data": {
      "text/plain": [
       "array([0, 0, 0, ..., 0, 0, 1])"
      ]
     },
     "execution_count": 37,
     "metadata": {},
     "output_type": "execute_result"
    }
   ],
   "source": [
    "prediction_on_training_data"
   ]
  },
  {
   "cell_type": "code",
   "execution_count": 38,
   "id": "012ecc3c-a313-4fc5-bce6-227e72e00846",
   "metadata": {},
   "outputs": [
    {
     "data": {
      "text/plain": [
       "1.0"
      ]
     },
     "execution_count": 38,
     "metadata": {},
     "output_type": "execute_result"
    }
   ],
   "source": [
    "accuracy_on_training_data"
   ]
  },
  {
   "cell_type": "code",
   "execution_count": 39,
   "id": "f05862ff-a285-49d5-ab68-c29e66a0462f",
   "metadata": {},
   "outputs": [],
   "source": [
    "# prediction on test data\n",
    "prediction_on_test_data = model.predict(X_test_features)\n",
    "accuracy_on_test_data = accuracy_score(Y_test, prediction_on_test_data)"
   ]
  },
  {
   "cell_type": "code",
   "execution_count": 40,
   "id": "6d312e80-f7c1-4f00-996c-3db14cef8e8c",
   "metadata": {},
   "outputs": [
    {
     "data": {
      "text/plain": [
       "0.9864734299516909"
      ]
     },
     "execution_count": 40,
     "metadata": {},
     "output_type": "execute_result"
    }
   ],
   "source": [
    "accuracy_on_test_data"
   ]
  },
  {
   "cell_type": "code",
   "execution_count": 41,
   "id": "0ef1ec25-3959-489a-8972-305c4d30bc7e",
   "metadata": {},
   "outputs": [
    {
     "name": "stdout",
     "output_type": "stream",
     "text": [
      "[1]\n",
      "HAM MAIL\n"
     ]
    }
   ],
   "source": [
    "input_mail = [\"I've been searching for the right words to thank you for this breather. I promise i wont take your help for granted and will fulfil my promise. You have been wonderful and a blessing at all times.\"]\n",
    "# convert text to feature vectors\n",
    "input_mail_features = feature_extraction.transform(input_mail)\n",
    "\n",
    "#making prediction\n",
    "prediction = model.predict(input_mail_features)\n",
    "print(prediction)\n",
    "\n",
    "if (prediction[0]==1):\n",
    "  print('HAM MAIL')\n",
    "else:\n",
    "  print('SPAM MAIL')"
   ]
  },
  {
   "cell_type": "code",
   "execution_count": null,
   "id": "fa7fe650-d5b5-49d2-af59-4cf8a29fc7e2",
   "metadata": {},
   "outputs": [],
   "source": []
  }
 ],
 "metadata": {
  "kernelspec": {
   "display_name": "Python 3 (ipykernel)",
   "language": "python",
   "name": "python3"
  },
  "language_info": {
   "codemirror_mode": {
    "name": "ipython",
    "version": 3
   },
   "file_extension": ".py",
   "mimetype": "text/x-python",
   "name": "python",
   "nbconvert_exporter": "python",
   "pygments_lexer": "ipython3",
   "version": "3.8.6"
  }
 },
 "nbformat": 4,
 "nbformat_minor": 5
}
